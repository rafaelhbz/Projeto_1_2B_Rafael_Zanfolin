{
 "cells": [
  {
   "cell_type": "markdown",
   "metadata": {},
   "source": [
    "# Projeto 1 - Ciência dos Dados"
   ]
  },
  {
   "cell_type": "markdown",
   "metadata": {},
   "source": [
    "Nome: \n",
    "### Rafael Henrique Belini Zanfolin"
   ]
  },
  {
   "cell_type": "markdown",
   "metadata": {},
   "source": [
    "## Pergunta (s) a ser respondida"
   ]
  },
  {
   "cell_type": "markdown",
   "metadata": {},
   "source": [
    "Qual será que é o padrão de interação entre o consumo de carvão (tones oil equivalent) e o GDP_per_capita growth de um país? E será que este comportamento é alterado, quando o país é membro da OECD?"
   ]
  },
  {
   "cell_type": "markdown",
   "metadata": {},
   "source": [
    "## Explicação da hipótese e mecanismo"
   ]
  },
  {
   "cell_type": "markdown",
   "metadata": {},
   "source": [
    "A OCDE é uma organização que engloba alguns dos países mais tecnológicos e com maior IDH do mundo, o que certamente deve gerar uma demanda energética muito grande. Com a mudança da mentalidade dos países e organizações para o lado ecológico, as fontes de energia mudaram com o tempo. Por isso, decidi analisar se o padrão de consumo de um combustível fóssil como o carvão\n",
    "\n",
    "Para dar maior embasamento teórico-científico ao estudo, eu analisei alguns textos acadêmicos. \n",
    "Como: \n",
    "    .https://www.sciencedirect.com/science/article/pii/S0140988300000591\n",
    "    .https://www.sciencedirect.com/science/article/pii/S0301421509005217"
   ]
  },
  {
   "cell_type": "markdown",
   "metadata": {},
   "source": [
    "## Bases de dados usadas"
   ]
  },
  {
   "cell_type": "markdown",
   "metadata": {},
   "source": [
    "https://www.gapminder.org/data/ => GDP/capita, yearly growth\n",
    "\n",
    "https://www.gapminder.org/data/ => Coal consumption, per person\n"
   ]
  },
  {
   "cell_type": "markdown",
   "metadata": {},
   "source": [
    "## Análise de dados"
   ]
  },
  {
   "cell_type": "markdown",
   "metadata": {},
   "source": [
    "Insira abaixo uma análise de dados tratada para ter maior clareza. \n",
    "\n",
    "Lembre-se de que, além deste arquivo principal, você precisa entregar um ou mais *notebooks* mais brutos com todas as tentativas que fez e que não deram certo .\n",
    "\n",
    "**Não inclua dados ou gráficos sem motivação nem interpretação** - sempre que fizer uma análise, plot ou tabela, diga qual sua intenção. Logo após a apresentação diga qual conclusão específica ou interpretação você tira daquela análise"
   ]
  },
  {
   "cell_type": "markdown",
   "metadata": {},
   "source": [
    "### Importando todas as bibliotecas utilizadas"
   ]
  },
  {
   "cell_type": "code",
   "execution_count": 1,
   "metadata": {},
   "outputs": [],
   "source": [
    "%matplotlib inline\n",
    "import pandas as pd\n",
    "import numpy as np\n",
    "import matplotlib.pyplot as plt"
   ]
  },
  {
   "cell_type": "markdown",
   "metadata": {},
   "source": [
    "### Lendo as planilhas utilizadas"
   ]
  },
  {
   "cell_type": "code",
   "execution_count": 3,
   "metadata": {},
   "outputs": [
    {
     "data": {
      "text/html": [
       "<div>\n",
       "<style scoped>\n",
       "    .dataframe tbody tr th:only-of-type {\n",
       "        vertical-align: middle;\n",
       "    }\n",
       "\n",
       "    .dataframe tbody tr th {\n",
       "        vertical-align: top;\n",
       "    }\n",
       "\n",
       "    .dataframe thead th {\n",
       "        text-align: right;\n",
       "    }\n",
       "</style>\n",
       "<table border=\"1\" class=\"dataframe\">\n",
       "  <thead>\n",
       "    <tr style=\"text-align: right;\">\n",
       "      <th></th>\n",
       "      <th>country</th>\n",
       "      <th>1801</th>\n",
       "      <th>1802</th>\n",
       "      <th>1803</th>\n",
       "      <th>1804</th>\n",
       "      <th>1805</th>\n",
       "      <th>1806</th>\n",
       "      <th>1807</th>\n",
       "      <th>1808</th>\n",
       "      <th>1809</th>\n",
       "      <th>...</th>\n",
       "      <th>2010</th>\n",
       "      <th>2011</th>\n",
       "      <th>2012</th>\n",
       "      <th>2013</th>\n",
       "      <th>2014</th>\n",
       "      <th>2015</th>\n",
       "      <th>2016</th>\n",
       "      <th>2017</th>\n",
       "      <th>2018</th>\n",
       "      <th>2019</th>\n",
       "    </tr>\n",
       "  </thead>\n",
       "  <tbody>\n",
       "    <tr>\n",
       "      <th>0</th>\n",
       "      <td>Afghanistan</td>\n",
       "      <td>NaN</td>\n",
       "      <td>NaN</td>\n",
       "      <td>NaN</td>\n",
       "      <td>NaN</td>\n",
       "      <td>NaN</td>\n",
       "      <td>NaN</td>\n",
       "      <td>NaN</td>\n",
       "      <td>NaN</td>\n",
       "      <td>NaN</td>\n",
       "      <td>...</td>\n",
       "      <td>5.17</td>\n",
       "      <td>3.850</td>\n",
       "      <td>11.20</td>\n",
       "      <td>1.13</td>\n",
       "      <td>0.837</td>\n",
       "      <td>2.11</td>\n",
       "      <td>2.68</td>\n",
       "      <td>2.76</td>\n",
       "      <td>3.02</td>\n",
       "      <td>3.38</td>\n",
       "    </tr>\n",
       "    <tr>\n",
       "      <th>1</th>\n",
       "      <td>Albania</td>\n",
       "      <td>0.10400</td>\n",
       "      <td>0.10400</td>\n",
       "      <td>0.10400</td>\n",
       "      <td>0.10400</td>\n",
       "      <td>0.10400</td>\n",
       "      <td>0.10400</td>\n",
       "      <td>0.10400</td>\n",
       "      <td>0.10400</td>\n",
       "      <td>0.10400</td>\n",
       "      <td>...</td>\n",
       "      <td>2.98</td>\n",
       "      <td>2.490</td>\n",
       "      <td>2.28</td>\n",
       "      <td>1.72</td>\n",
       "      <td>2.610</td>\n",
       "      <td>3.82</td>\n",
       "      <td>4.72</td>\n",
       "      <td>5.03</td>\n",
       "      <td>5.03</td>\n",
       "      <td>5.23</td>\n",
       "    </tr>\n",
       "    <tr>\n",
       "      <th>2</th>\n",
       "      <td>Algeria</td>\n",
       "      <td>-0.00247</td>\n",
       "      <td>-0.00247</td>\n",
       "      <td>-0.00247</td>\n",
       "      <td>-0.00247</td>\n",
       "      <td>-0.00247</td>\n",
       "      <td>-0.00247</td>\n",
       "      <td>-0.00247</td>\n",
       "      <td>-0.00247</td>\n",
       "      <td>-0.00247</td>\n",
       "      <td>...</td>\n",
       "      <td>2.06</td>\n",
       "      <td>0.857</td>\n",
       "      <td>1.16</td>\n",
       "      <td>1.61</td>\n",
       "      <td>2.180</td>\n",
       "      <td>2.10</td>\n",
       "      <td>2.36</td>\n",
       "      <td>2.50</td>\n",
       "      <td>2.63</td>\n",
       "      <td>2.68</td>\n",
       "    </tr>\n",
       "  </tbody>\n",
       "</table>\n",
       "<p>3 rows × 220 columns</p>\n",
       "</div>"
      ],
      "text/plain": [
       "       country     1801     1802     1803     1804     1805     1806     1807  \\\n",
       "0  Afghanistan      NaN      NaN      NaN      NaN      NaN      NaN      NaN   \n",
       "1      Albania  0.10400  0.10400  0.10400  0.10400  0.10400  0.10400  0.10400   \n",
       "2      Algeria -0.00247 -0.00247 -0.00247 -0.00247 -0.00247 -0.00247 -0.00247   \n",
       "\n",
       "      1808     1809  ...   2010   2011   2012  2013   2014  2015  2016  2017  \\\n",
       "0      NaN      NaN  ...   5.17  3.850  11.20  1.13  0.837  2.11  2.68  2.76   \n",
       "1  0.10400  0.10400  ...   2.98  2.490   2.28  1.72  2.610  3.82  4.72  5.03   \n",
       "2 -0.00247 -0.00247  ...   2.06  0.857   1.16  1.61  2.180  2.10  2.36  2.50   \n",
       "\n",
       "   2018  2019  \n",
       "0  3.02  3.38  \n",
       "1  5.03  5.23  \n",
       "2  2.63  2.68  \n",
       "\n",
       "[3 rows x 220 columns]"
      ]
     },
     "execution_count": 3,
     "metadata": {},
     "output_type": "execute_result"
    }
   ],
   "source": [
    "GDP_capita_growth = pd.read_excel(\"gdp_per_capita_yearly_growth.xlsx\")\n",
    "Consumo_carvão = pd.read_excel(\"coal_consumption_per_cap.xlsx\")\n",
    "GDP_capita_growth.head(3) # Utilizado para visualização"
   ]
  },
  {
   "cell_type": "markdown",
   "metadata": {},
   "source": [
    "### Alterando o Index"
   ]
  },
  {
   "cell_type": "code",
   "execution_count": 6,
   "metadata": {},
   "outputs": [
    {
     "data": {
      "text/html": [
       "<div>\n",
       "<style scoped>\n",
       "    .dataframe tbody tr th:only-of-type {\n",
       "        vertical-align: middle;\n",
       "    }\n",
       "\n",
       "    .dataframe tbody tr th {\n",
       "        vertical-align: top;\n",
       "    }\n",
       "\n",
       "    .dataframe thead th {\n",
       "        text-align: right;\n",
       "    }\n",
       "</style>\n",
       "<table border=\"1\" class=\"dataframe\">\n",
       "  <thead>\n",
       "    <tr style=\"text-align: right;\">\n",
       "      <th></th>\n",
       "      <th>1965</th>\n",
       "      <th>1966</th>\n",
       "      <th>1967</th>\n",
       "      <th>1968</th>\n",
       "      <th>1969</th>\n",
       "      <th>1970</th>\n",
       "      <th>1971</th>\n",
       "      <th>1972</th>\n",
       "      <th>1973</th>\n",
       "      <th>1974</th>\n",
       "      <th>...</th>\n",
       "      <th>2007</th>\n",
       "      <th>2008</th>\n",
       "      <th>2009</th>\n",
       "      <th>2010</th>\n",
       "      <th>2011</th>\n",
       "      <th>2012</th>\n",
       "      <th>2013</th>\n",
       "      <th>2014</th>\n",
       "      <th>2015</th>\n",
       "      <th>2016</th>\n",
       "    </tr>\n",
       "    <tr>\n",
       "      <th>country</th>\n",
       "      <th></th>\n",
       "      <th></th>\n",
       "      <th></th>\n",
       "      <th></th>\n",
       "      <th></th>\n",
       "      <th></th>\n",
       "      <th></th>\n",
       "      <th></th>\n",
       "      <th></th>\n",
       "      <th></th>\n",
       "      <th></th>\n",
       "      <th></th>\n",
       "      <th></th>\n",
       "      <th></th>\n",
       "      <th></th>\n",
       "      <th></th>\n",
       "      <th></th>\n",
       "      <th></th>\n",
       "      <th></th>\n",
       "      <th></th>\n",
       "      <th></th>\n",
       "    </tr>\n",
       "  </thead>\n",
       "  <tbody>\n",
       "    <tr>\n",
       "      <th>Algeria</th>\n",
       "      <td>0.00554</td>\n",
       "      <td>0.00524</td>\n",
       "      <td>0.00389</td>\n",
       "      <td>0.0040</td>\n",
       "      <td>0.00495</td>\n",
       "      <td>0.0057</td>\n",
       "      <td>0.00154</td>\n",
       "      <td>0.0013</td>\n",
       "      <td>0.00146</td>\n",
       "      <td>0.00117</td>\n",
       "      <td>...</td>\n",
       "      <td>0.0221</td>\n",
       "      <td>0.0217</td>\n",
       "      <td>0.0137</td>\n",
       "      <td>0.00858</td>\n",
       "      <td>0.00747</td>\n",
       "      <td>0.00777</td>\n",
       "      <td>0.00412</td>\n",
       "      <td>0.00458</td>\n",
       "      <td>0.00361</td>\n",
       "      <td>0.00356</td>\n",
       "    </tr>\n",
       "    <tr>\n",
       "      <th>Argentina</th>\n",
       "      <td>0.03570</td>\n",
       "      <td>0.03690</td>\n",
       "      <td>0.03560</td>\n",
       "      <td>0.0282</td>\n",
       "      <td>0.03710</td>\n",
       "      <td>0.0409</td>\n",
       "      <td>0.03310</td>\n",
       "      <td>0.0291</td>\n",
       "      <td>0.03010</td>\n",
       "      <td>0.03800</td>\n",
       "      <td>...</td>\n",
       "      <td>0.0305</td>\n",
       "      <td>0.0345</td>\n",
       "      <td>0.0234</td>\n",
       "      <td>0.03080</td>\n",
       "      <td>0.03720</td>\n",
       "      <td>0.03110</td>\n",
       "      <td>0.02950</td>\n",
       "      <td>0.03460</td>\n",
       "      <td>0.03130</td>\n",
       "      <td>0.02410</td>\n",
       "    </tr>\n",
       "    <tr>\n",
       "      <th>Australia</th>\n",
       "      <td>1.53000</td>\n",
       "      <td>1.55000</td>\n",
       "      <td>1.55000</td>\n",
       "      <td>1.5500</td>\n",
       "      <td>1.57000</td>\n",
       "      <td>1.5500</td>\n",
       "      <td>1.53000</td>\n",
       "      <td>1.5700</td>\n",
       "      <td>1.61000</td>\n",
       "      <td>1.66000</td>\n",
       "      <td>...</td>\n",
       "      <td>2.5100</td>\n",
       "      <td>2.5700</td>\n",
       "      <td>2.4400</td>\n",
       "      <td>2.23000</td>\n",
       "      <td>2.14000</td>\n",
       "      <td>1.98000</td>\n",
       "      <td>1.86000</td>\n",
       "      <td>1.82000</td>\n",
       "      <td>1.85000</td>\n",
       "      <td>1.82000</td>\n",
       "    </tr>\n",
       "  </tbody>\n",
       "</table>\n",
       "<p>3 rows × 52 columns</p>\n",
       "</div>"
      ],
      "text/plain": [
       "              1965     1966     1967    1968     1969    1970     1971  \\\n",
       "country                                                                  \n",
       "Algeria    0.00554  0.00524  0.00389  0.0040  0.00495  0.0057  0.00154   \n",
       "Argentina  0.03570  0.03690  0.03560  0.0282  0.03710  0.0409  0.03310   \n",
       "Australia  1.53000  1.55000  1.55000  1.5500  1.57000  1.5500  1.53000   \n",
       "\n",
       "             1972     1973     1974   ...       2007    2008    2009     2010  \\\n",
       "country                               ...                                       \n",
       "Algeria    0.0013  0.00146  0.00117   ...     0.0221  0.0217  0.0137  0.00858   \n",
       "Argentina  0.0291  0.03010  0.03800   ...     0.0305  0.0345  0.0234  0.03080   \n",
       "Australia  1.5700  1.61000  1.66000   ...     2.5100  2.5700  2.4400  2.23000   \n",
       "\n",
       "              2011     2012     2013     2014     2015     2016  \n",
       "country                                                          \n",
       "Algeria    0.00747  0.00777  0.00412  0.00458  0.00361  0.00356  \n",
       "Argentina  0.03720  0.03110  0.02950  0.03460  0.03130  0.02410  \n",
       "Australia  2.14000  1.98000  1.86000  1.82000  1.85000  1.82000  \n",
       "\n",
       "[3 rows x 52 columns]"
      ]
     },
     "execution_count": 6,
     "metadata": {},
     "output_type": "execute_result"
    }
   ],
   "source": [
    "GDP_capita_setado = GDP_capita_growth.set_index(\"country\")\n",
    "Consumo_carvão_setado = Consumo_carvão.set_index(\"country\")\n",
    "#GDP_capita_setado.head()\n",
    "#Consumo_carvão_setado.head()\n",
    "GDP_capita_setado_cru = GDP_capita_growth.set_index(\"country\")\n",
    "Consumo_carvão_setado_cru = Consumo_carvão.set_index(\"country\")\n",
    "Consumo_carvão_setado_cru.head(3) #Vizualização"
   ]
  },
  {
   "cell_type": "markdown",
   "metadata": {},
   "source": [
    "### Modificando com base na OECD"
   ]
  },
  {
   "cell_type": "code",
   "execution_count": 7,
   "metadata": {},
   "outputs": [],
   "source": [
    "países_OECD = [\"Australia\" , \"Austria\", \"Belgium\", \"Canada\", \"Chile\", \"Czech Republic\", \"Denmark\",\n",
    "                                    \"Finland\", \"France\", \"Germany\", \"Greece\", \"Hungary\", \"Ireland\", \"Israel\", \"Italy\",\n",
    "                                   \"Japan\", \"South Korea\", \"Lithuania\", \"Mexico\", \"New Zealand\",\n",
    "                                   \"Norway\", \"Poland\", \"Portugal\", \"Slovak Republic\", \"Spain\", \"Sweden\", \"Switzerland\",\n",
    "                                   \"Turkey\", \"United Kingdom\", \"United States\"]\n",
    "\n",
    "Consumo_carvão_setado.loc[: , \"OECD\"] = \"Não\"  \n",
    "Consumo_carvão_setado.loc[países_OECD, \"OECD\"] = \"Sim\"\n",
    "\n",
    "Consumo_carvão_setado.head(5)\n",
    "\n",
    "GDP_capita_setado.loc[: , \"OECD\"] = \"Não\"\n",
    "GDP_capita_setado.loc[países_OECD , \"OECD\"] = \"Sim\""
   ]
  },
  {
   "cell_type": "markdown",
   "metadata": {},
   "source": [
    "### Plotando um Boxplot, referente a 1973"
   ]
  },
  {
   "cell_type": "code",
   "execution_count": 11,
   "metadata": {},
   "outputs": [
    {
     "data": {
      "image/png": "[encoded data removed]",
      "text/plain": [
       "<Figure size 432x288 with 1 Axes>"
      ]
     },
     "metadata": {
      "needs_background": "light"
     },
     "output_type": "display_data"
    }
   ],
   "source": [
    "Boxplot_1 = Consumo_carvão_setado.boxplot(column=1973, by=\"OECD\")"
   ]
  },
  {
   "cell_type": "markdown",
   "metadata": {},
   "source": [
    "#### No Boxplot referente aos países não pertencentes à OCDE ,no ano de 1973, é possível inferir que a Mediana está entre 0,2 e 0,1 (tones oil equivalent) e que 1º está próximo de 0,01 e o 3º quartil está próximo de 0,02. Além disso, como Limite Superior está muito próximo do Limite Inferior, isso implica que o padrão de comportamento está sobrecarregado na Mediana\n",
    "\n",
    "#### No Boxplot referente aos países pertencentes à OCDE ,no ano de 1973, é possível inferir que a Mediana está muto próxima de 0,5 (tones oil equivalent) e que 1º está próximo de 0,3 e o 3º quartil está próximo de 1.2. Além disso, como o Limite Inferior está muito próximo do 1º, podemos inferir que o gráfico do consumo está mais inclinado para a esquerda"
   ]
  },
  {
   "cell_type": "markdown",
   "metadata": {},
   "source": [
    "### Plotando outro Boxplot, referente a 2000"
   ]
  },
  {
   "cell_type": "code",
   "execution_count": 13,
   "metadata": {},
   "outputs": [
    {
     "data": {
      "image/png": "[encoded data removed]",
      "text/plain": [
       "<Figure size 432x288 with 1 Axes>"
      ]
     },
     "metadata": {
      "needs_background": "light"
     },
     "output_type": "display_data"
    }
   ],
   "source": [
    "Boxplot_1 = Consumo_carvão_setado.boxplot(column=2000, by=\"OECD\")"
   ]
  },
  {
   "cell_type": "markdown",
   "metadata": {},
   "source": [
    "#### No Boxplot referente aos países não pertencentes à OCDE ,no ano de 2000, é possível inferir que a Mediana está entre 0,2 e 0,1 (tones oil equivalent) e que 1º está próximo de 0,05 e o 3º quartil está próximo de 0,07. Além disso, como Limite Superior está do 1º Quartil, isso implica que o padrão de comportamento muito incliando para a esquerda\n",
    "\n",
    "#### No Boxplot referente aos países pertencentes à OCDE ,no ano de 2000, é possível inferir que a Mediana está muito próxima de 0,7 (tones oil equivalent) e que o 1º quartil está próximo de 0,3 e o 3º quartil está próximo de 0.8 Além disso, como o Limite Inferior está muito próximo do 1º, podemos inferir que o gráfico está mais disperso do que o ano de 1973"
   ]
  },
  {
   "cell_type": "markdown",
   "metadata": {},
   "source": [
    "### Plotando un Histograma, referente a 1973"
   ]
  },
  {
   "cell_type": "code",
   "execution_count": 14,
   "metadata": {},
   "outputs": [
    {
     "data": {
      "image/png": "[encoded data removed]",
      "text/plain": [
       "<Figure size 432x288 with 2 Axes>"
      ]
     },
     "metadata": {
      "needs_background": "light"
     },
     "output_type": "display_data"
    }
   ],
   "source": [
    "Histograma = Consumo_carvão_setado.hist(column=1973, by=\"OECD\")"
   ]
  },
  {
   "cell_type": "markdown",
   "metadata": {},
   "source": [
    "#### O histograma foi utilizado para ilustrar o comportamento observado no Boxplot"
   ]
  },
  {
   "cell_type": "markdown",
   "metadata": {},
   "source": [
    "### Plotando um Histograma referente a 2000"
   ]
  },
  {
   "cell_type": "code",
   "execution_count": 15,
   "metadata": {},
   "outputs": [
    {
     "data": {
      "image/png": "[encoded data removed]",
      "text/plain": [
       "<Figure size 432x288 with 2 Axes>"
      ]
     },
     "metadata": {
      "needs_background": "light"
     },
     "output_type": "display_data"
    }
   ],
   "source": [
    "Histograma = Consumo_carvão_setado.hist(column=2000, by=\"OECD\")"
   ]
  },
  {
   "cell_type": "markdown",
   "metadata": {},
   "source": [
    "#### O histograma foi utilizado para ilustrar o comportamento observado no Boxplot"
   ]
  },
  {
   "cell_type": "markdown",
   "metadata": {},
   "source": [
    "### Modificando as tabelas para dar join"
   ]
  },
  {
   "cell_type": "markdown",
   "metadata": {},
   "source": [
    "#### Preparando os dados"
   ]
  },
  {
   "cell_type": "code",
   "execution_count": 16,
   "metadata": {},
   "outputs": [],
   "source": [
    "Index_total_GDP = []\n",
    "Index_total_carbono = []\n",
    "Index_total_Junção = []\n",
    "\n",
    "\n",
    "for i in GDP_capita_setado.index:\n",
    "    Index_total_GDP.append(i)\n",
    "    \n",
    "for a in Consumo_carvão_setado.index:\n",
    "    Index_total_carbono.append(a)\n",
    "\n",
    "for b in Index_total_carbono:\n",
    "    if b in Index_total_carbono:\n",
    "        Index_total_Junção.append(b)"
   ]
  },
  {
   "cell_type": "markdown",
   "metadata": {},
   "source": [
    "#### Igualando o número de colunas"
   ]
  },
  {
   "cell_type": "code",
   "execution_count": 18,
   "metadata": {},
   "outputs": [
    {
     "data": {
      "text/html": [
       "<div>\n",
       "<style scoped>\n",
       "    .dataframe tbody tr th:only-of-type {\n",
       "        vertical-align: middle;\n",
       "    }\n",
       "\n",
       "    .dataframe tbody tr th {\n",
       "        vertical-align: top;\n",
       "    }\n",
       "\n",
       "    .dataframe thead th {\n",
       "        text-align: right;\n",
       "    }\n",
       "</style>\n",
       "<table border=\"1\" class=\"dataframe\">\n",
       "  <thead>\n",
       "    <tr style=\"text-align: right;\">\n",
       "      <th></th>\n",
       "      <th>1973</th>\n",
       "      <th>1974</th>\n",
       "      <th>1975</th>\n",
       "      <th>1976</th>\n",
       "      <th>1977</th>\n",
       "      <th>1978</th>\n",
       "      <th>1979</th>\n",
       "      <th>1980</th>\n",
       "      <th>1981</th>\n",
       "      <th>1982</th>\n",
       "      <th>...</th>\n",
       "      <th>1991</th>\n",
       "      <th>1992</th>\n",
       "      <th>1993</th>\n",
       "      <th>1994</th>\n",
       "      <th>1995</th>\n",
       "      <th>1996</th>\n",
       "      <th>1997</th>\n",
       "      <th>1998</th>\n",
       "      <th>1999</th>\n",
       "      <th>2000</th>\n",
       "    </tr>\n",
       "    <tr>\n",
       "      <th>country</th>\n",
       "      <th></th>\n",
       "      <th></th>\n",
       "      <th></th>\n",
       "      <th></th>\n",
       "      <th></th>\n",
       "      <th></th>\n",
       "      <th></th>\n",
       "      <th></th>\n",
       "      <th></th>\n",
       "      <th></th>\n",
       "      <th></th>\n",
       "      <th></th>\n",
       "      <th></th>\n",
       "      <th></th>\n",
       "      <th></th>\n",
       "      <th></th>\n",
       "      <th></th>\n",
       "      <th></th>\n",
       "      <th></th>\n",
       "      <th></th>\n",
       "      <th></th>\n",
       "    </tr>\n",
       "  </thead>\n",
       "  <tbody>\n",
       "    <tr>\n",
       "      <th>Algeria</th>\n",
       "      <td>0.00146</td>\n",
       "      <td>0.00117</td>\n",
       "      <td>0.00144</td>\n",
       "      <td>0.00273</td>\n",
       "      <td>0.00345</td>\n",
       "      <td>0.0017</td>\n",
       "      <td>0.00384</td>\n",
       "      <td>0.00331</td>\n",
       "      <td>0.00226</td>\n",
       "      <td>0.0406</td>\n",
       "      <td>...</td>\n",
       "      <td>0.0256</td>\n",
       "      <td>0.0297</td>\n",
       "      <td>0.0237</td>\n",
       "      <td>0.0219</td>\n",
       "      <td>0.0215</td>\n",
       "      <td>0.00993</td>\n",
       "      <td>0.0171</td>\n",
       "      <td>0.0181</td>\n",
       "      <td>0.0191</td>\n",
       "      <td>0.0155</td>\n",
       "    </tr>\n",
       "    <tr>\n",
       "      <th>Argentina</th>\n",
       "      <td>0.03010</td>\n",
       "      <td>0.03800</td>\n",
       "      <td>0.04040</td>\n",
       "      <td>0.04060</td>\n",
       "      <td>0.03160</td>\n",
       "      <td>0.0445</td>\n",
       "      <td>0.03470</td>\n",
       "      <td>0.03320</td>\n",
       "      <td>0.02970</td>\n",
       "      <td>0.0291</td>\n",
       "      <td>...</td>\n",
       "      <td>0.0221</td>\n",
       "      <td>0.0193</td>\n",
       "      <td>0.0225</td>\n",
       "      <td>0.0314</td>\n",
       "      <td>0.0278</td>\n",
       "      <td>0.02580</td>\n",
       "      <td>0.0236</td>\n",
       "      <td>0.0202</td>\n",
       "      <td>0.0201</td>\n",
       "      <td>0.0166</td>\n",
       "    </tr>\n",
       "    <tr>\n",
       "      <th>Australia</th>\n",
       "      <td>1.61000</td>\n",
       "      <td>1.66000</td>\n",
       "      <td>1.69000</td>\n",
       "      <td>1.73000</td>\n",
       "      <td>1.79000</td>\n",
       "      <td>1.8100</td>\n",
       "      <td>1.87000</td>\n",
       "      <td>1.91000</td>\n",
       "      <td>1.93000</td>\n",
       "      <td>1.9200</td>\n",
       "      <td>...</td>\n",
       "      <td>2.2600</td>\n",
       "      <td>2.2400</td>\n",
       "      <td>2.2300</td>\n",
       "      <td>2.2500</td>\n",
       "      <td>2.3000</td>\n",
       "      <td>2.37000</td>\n",
       "      <td>2.4700</td>\n",
       "      <td>2.5500</td>\n",
       "      <td>2.5300</td>\n",
       "      <td>2.5200</td>\n",
       "    </tr>\n",
       "  </tbody>\n",
       "</table>\n",
       "<p>3 rows × 28 columns</p>\n",
       "</div>"
      ],
      "text/plain": [
       "              1973     1974     1975     1976     1977    1978     1979  \\\n",
       "country                                                                   \n",
       "Algeria    0.00146  0.00117  0.00144  0.00273  0.00345  0.0017  0.00384   \n",
       "Argentina  0.03010  0.03800  0.04040  0.04060  0.03160  0.0445  0.03470   \n",
       "Australia  1.61000  1.66000  1.69000  1.73000  1.79000  1.8100  1.87000   \n",
       "\n",
       "              1980     1981    1982   ...      1991    1992    1993    1994  \\\n",
       "country                               ...                                     \n",
       "Algeria    0.00331  0.00226  0.0406   ...    0.0256  0.0297  0.0237  0.0219   \n",
       "Argentina  0.03320  0.02970  0.0291   ...    0.0221  0.0193  0.0225  0.0314   \n",
       "Australia  1.91000  1.93000  1.9200   ...    2.2600  2.2400  2.2300  2.2500   \n",
       "\n",
       "             1995     1996    1997    1998    1999    2000  \n",
       "country                                                     \n",
       "Algeria    0.0215  0.00993  0.0171  0.0181  0.0191  0.0155  \n",
       "Argentina  0.0278  0.02580  0.0236  0.0202  0.0201  0.0166  \n",
       "Australia  2.3000  2.37000  2.4700  2.5500  2.5300  2.5200  \n",
       "\n",
       "[3 rows x 28 columns]"
      ]
     },
     "execution_count": 18,
     "metadata": {},
     "output_type": "execute_result"
    }
   ],
   "source": [
    "Transposed_GDP = GDP_capita_setado_cru.transpose()\n",
    "Fragmentado_GDP = Transposed_GDP.loc[(Transposed_GDP.index > 1972) & (Transposed_GDP.index < 2001), :]\n",
    "GDP_locado = Fragmentado_GDP.transpose()\n",
    "GDP_modificado = Fragmentado_GDP.transpose()\n",
    "Planilha_1 = GDP_modificado.loc[(Index_total_Junção) , : ]\n",
    "\n",
    "Transposed_carvão = Consumo_carvão_setado_cru.transpose()\n",
    "Fragmentado_carvão = Transposed_carvão.loc[(Transposed_carvão.index > 1972) & (Transposed_carvão.index < 2001), : ]\n",
    "Carvão_locado = Fragmentado_carvão.transpose()\n",
    "Carvão_modificado = Fragmentado_carvão.transpose()\n",
    "Planilha_2  = Carvão_modificado.loc[(Index_total_Junção) , : ]\n",
    "\n",
    "Planilha_2.head(3)"
   ]
  },
  {
   "cell_type": "markdown",
   "metadata": {},
   "source": [
    "## Dando join e formando um gráfico"
   ]
  },
  {
   "cell_type": "code",
   "execution_count": 35,
   "metadata": {},
   "outputs": [],
   "source": [
    "Planilhas_unificadas = Planilha_1.join(Planilha_2, how=\"inner\" ,lsuffix='_GDP', rsuffix='_Carbon')"
   ]
  },
  {
   "cell_type": "markdown",
   "metadata": {},
   "source": [
    "### Utilizando um Scaterplot, para 1973"
   ]
  },
  {
   "cell_type": "code",
   "execution_count": 33,
   "metadata": {},
   "outputs": [
    {
     "data": {
      "text/plain": [
       "Text(0, 0.5, 'Carbon_consumption')"
      ]
     },
     "execution_count": 33,
     "metadata": {},
     "output_type": "execute_result"
    },
    {
     "data": {
      "image/png": "[encoded data removed]",
      "text/plain": [
       "<Figure size 432x288 with 1 Axes>"
      ]
     },
     "metadata": {
      "needs_background": "light"
     },
     "output_type": "display_data"
    }
   ],
   "source": [
    "Planilha_1.loc[: , \"OECD\"] = \"Não\"\n",
    "Planilha_1.loc[países_OECD , \"OECD\"] = \"Sim\"\n",
    "\n",
    "Planilha_2.loc[: , \"OECD\"] = \"Não\"\n",
    "Planilha_2.loc[países_OECD, \"OECD\"] = \"Sim\"\n",
    "\n",
    "plt.title(\"GDP_capita_growth x Carbon_consumption\")\n",
    "plt.scatter(Planilha_1.loc[Planilha_1.OECD==\"Sim\",1973], Planilha_2.loc[Planilha_2.OECD==\"Sim\", 1973], color=\"r\")\n",
    "plt.scatter(Planilha_1.loc[Planilha_1.OECD==\"Não\",1973], Planilha_2.loc[Planilha_2.OECD==\"Não\", 1973], color=\"g\")\n",
    "plt.xlabel(\"GDP_capita_growth\")\n",
    "plt.ylabel(\"Carbon_consumption\")"
   ]
  },
  {
   "cell_type": "markdown",
   "metadata": {},
   "source": [
    "#### Este gráfico ainda está muito cru para ser analizado, é necessário calcular a correlação entre os dois pontos. E fazer uma regressão linear"
   ]
  },
  {
   "cell_type": "markdown",
   "metadata": {},
   "source": [
    "### Utilizando um Scaterplot, para 2000"
   ]
  },
  {
   "cell_type": "code",
   "execution_count": 32,
   "metadata": {},
   "outputs": [
    {
     "data": {
      "text/plain": [
       "Text(0, 0.5, 'Carbon_consumption')"
      ]
     },
     "execution_count": 32,
     "metadata": {},
     "output_type": "execute_result"
    },
    {
     "data": {
      "image/png": "[encoded data removed]",
      "text/plain": [
       "<Figure size 432x288 with 1 Axes>"
      ]
     },
     "metadata": {
      "needs_background": "light"
     },
     "output_type": "display_data"
    }
   ],
   "source": [
    "Planilha_1.loc[: , \"OECD\"] = \"Não\"\n",
    "Planilha_1.loc[países_OECD , \"OECD\"] = \"Sim\"\n",
    "\n",
    "Planilha_2.loc[: , \"OECD\"] = \"Não\"\n",
    "Planilha_2.loc[países_OECD, \"OECD\"] = \"Sim\"\n",
    "\n",
    "plt.title(\"GDP_capita_growth x Carbon_consumption\")\n",
    "plt.scatter(Planilha_1.loc[Planilha_1.OECD==\"Sim\",2000], Planilha_2.loc[Planilha_2.OECD==\"Sim\", 2000], color=\"r\")\n",
    "plt.scatter(Planilha_1.loc[Planilha_1.OECD==\"Não\",2000], Planilha_2.loc[Planilha_2.OECD==\"Não\", 2000], color=\"g\")\n",
    "plt.xlabel(\"GDP_capita_growth\")\n",
    "plt.ylabel(\"Carbon_consumption\")"
   ]
  },
  {
   "cell_type": "markdown",
   "metadata": {},
   "source": [
    "#### Este gráfico ainda está muito cru para ser analizado, é necessário calcular a correlação entre os dois pontos. E fazer uma regressão linear"
   ]
  },
  {
   "cell_type": "markdown",
   "metadata": {},
   "source": [
    "### Utilizando uma função para o ajuste linear"
   ]
  },
  {
   "cell_type": "code",
   "execution_count": 37,
   "metadata": {},
   "outputs": [],
   "source": [
    "def reta(dados_x, dados_y, c):    \n",
    "    a = dados_y.cov(dados_x) / dados_x.var()\n",
    "    b = dados_y.mean() - a*dados_x.mean()\n",
    "\n",
    "    print('Ajuste linear entre GDP_capta_growth e Carbon_emission:')\n",
    "    print('Coeficiente linear:', b)\n",
    "    print('Coeficiente angular:', a)\n",
    "    plt.scatter(dados_x, dados_y, c=c, alpha=0.8)\n",
    "    plt.title('x versus y')\n",
    "    plt.xlabel('eixo x')\n",
    "    plt.ylabel('eixo y')\n",
    "\n",
    "    plt.plot((dados_x.min(), dados_x.max()), (a*dados_x.min()+b, a*dados_x.max()+b), color=c)\n",
    "\n",
    "    plt.tight_layout()\n"
   ]
  },
  {
   "cell_type": "markdown",
   "metadata": {},
   "source": [
    "### Dispersão mais *ajuste* de retas, ano 1973"
   ]
  },
  {
   "cell_type": "code",
   "execution_count": 29,
   "metadata": {},
   "outputs": [
    {
     "name": "stdout",
     "output_type": "stream",
     "text": [
      "Ajuste linear entre GDP_capta_growth e Carbon_emission:\n",
      "Coeficiente linear: 0.8554094364907311\n",
      "Coeficiente angular: -0.013498561494049889\n",
      "Ajuste linear entre GDP_capta_growth e Carbon_emission:\n",
      "Coeficiente linear: 0.17936631073509865\n",
      "Coeficiente angular: -0.0033564192941144175\n"
     ]
    },
    {
     "data": {
      "text/plain": [
       "Text(0.5, 20.80000000000001, 'GDP_capita')"
      ]
     },
     "execution_count": 29,
     "metadata": {},
     "output_type": "execute_result"
    },
    {
     "data": {
      "image/png": "[encoded data removed]",
      "text/plain": [
       "<Figure size 432x288 with 1 Axes>"
      ]
     },
     "metadata": {
      "needs_background": "light"
     },
     "output_type": "display_data"
    }
   ],
   "source": [
    "plt.scatter(Planilha_1.loc[Planilha_1.OECD==\"Sim\",1973], Planilha_2.loc[Planilha_2.OECD==\"Sim\", 1973], color=\"r\")\n",
    "reta(Planilha_1.loc[Planilha_1.OECD==\"Sim\",1973], Planilha_2.loc[Planilha_2.OECD==\"Sim\", 1973], \"r\")\n",
    "plt.scatter(Planilha_2.loc[Planilha_2.OECD==\"Não\",1973], Planilha_2.loc[Planilha_2.OECD==\"Não\", 1973], color=\"g\")\n",
    "reta(Planilha_1.loc[Planilha_1.OECD==\"Não\",1973], Planilha_2.loc[Planilha_2.OECD==\"Não\", 1973], \"g\")\n",
    "plt.title(\"Consumo_carbono x GDP_capita\")\n",
    "plt.ylabel(\"Consumo_carbono\")\n",
    "plt.xlabel(\"GDP_capita\")"
   ]
  },
  {
   "cell_type": "markdown",
   "metadata": {},
   "source": [
    " Analisando esse dado, é possível inferir que nos países membros da OECD há uma correlação negativa entre o aumento no PIB per capita e o consumo de carbono por pessoa\n",
    "\n",
    " Além disso, também é possível inferir que nos países não membros da OECD há uma correlação muito próxima de zero, o que impossibilita uma análise mais criterizada no ano de 1973\n",
    " \n",
    " Vale a pena ressaltar que a correlação não necessariamente representa uma relação de causalidae (cauxa x consequência)"
   ]
  },
  {
   "cell_type": "markdown",
   "metadata": {},
   "source": [
    "### Dispersão mais *ajuste* de retas, ano 2000"
   ]
  },
  {
   "cell_type": "code",
   "execution_count": 31,
   "metadata": {},
   "outputs": [
    {
     "name": "stdout",
     "output_type": "stream",
     "text": [
      "Ajuste linear entre GDP_capta_growth e Carbon_emission:\n",
      "Coeficiente linear: 1.2115035571775934\n",
      "Coeficiente angular: -0.10694599812917176\n",
      "Ajuste linear entre GDP_capta_growth e Carbon_emission:\n",
      "Coeficiente linear: -8.43420872727596e-05\n",
      "Coeficiente angular: 0.06753674771886446\n"
     ]
    },
    {
     "data": {
      "text/plain": [
       "Text(0.5, 20.80000000000001, 'GDP_capita')"
      ]
     },
     "execution_count": 31,
     "metadata": {},
     "output_type": "execute_result"
    },
    {
     "data": {
      "image/png": "[encoded data removed]",
      "text/plain": [
       "<Figure size 432x288 with 1 Axes>"
      ]
     },
     "metadata": {
      "needs_background": "light"
     },
     "output_type": "display_data"
    }
   ],
   "source": [
    "plt.scatter(Planilha_1.loc[Planilha_1.OECD==\"Sim\",2000], Planilha_2.loc[Planilha_2.OECD==\"Sim\", 2000], color=\"r\")\n",
    "reta(Planilha_1.loc[Planilha_1.OECD==\"Sim\",2000], Planilha_2.loc[Planilha_2.OECD==\"Sim\", 1973], \"r\")\n",
    "plt.scatter(Planilha_2.loc[Planilha_2.OECD==\"Não\",2000], Planilha_2.loc[Planilha_2.OECD==\"Não\", 1973], color=\"g\")\n",
    "reta(Planilha_1.loc[Planilha_1.OECD==\"Não\",2000], Planilha_2.loc[Planilha_2.OECD==\"Não\", 2000], \"g\")\n",
    "plt.title(\"Consumo_carbono x GDP_capita\")\n",
    "plt.ylabel(\"Consumo_carbono\")\n",
    "plt.xlabel(\"GDP_capita\")"
   ]
  },
  {
   "cell_type": "markdown",
   "metadata": {},
   "source": [
    " Analisando esse dado, é possível inferir que nos países membros da OECD há uma correlação negativa entre o aumento no PIB per capita e o consumo de carbono por pessoa, aumentando ainda mais do que o padrão observado no gráfico de 1973\n",
    "\n",
    " Além disso, também é possível inferir que nos países não membros da OECD há uma correlação positiva, indicando que há um padrão diretamente proporcional entre o consumo de carvão e o aumento do PIB per capita\n",
    " \n",
    " Vale a pena ressaltar que a correlação não necessariamente representa uma relação de causalidae (cauxa x consequência)"
   ]
  },
  {
   "cell_type": "markdown",
   "metadata": {},
   "source": [
    "## Conclusão"
   ]
  },
  {
   "cell_type": "markdown",
   "metadata": {},
   "source": [
    "Depois de ler alguns artidos científicos, percebi que o padrão observado nem sempre se mostra realidade. Um exemplo disso é a Noruega, que tem um consumo absurdo de carvão, comparado aos demais países da OECD. Outro país que chamou a minha atenção é o Estados Unidos, que mantém um variação quase que constante no consumo de carbono\n",
    "\n",
    "Os dados obtidos podem evidenciar que os países da OECD estão cada vez menos usando carvão e, provavelmente, utilizando outra forma de energia para suprir suas demandas energéticas\n",
    "\n",
    "Respondendo a pergunta que iniciou este projeto, aparentemente há uma correlação negativa (uma relação inversamente proporcional) entre o aumento do GDP_capita e o consumo de carvão por pessoa (tones oil equivalent). E aparentemente nos países fora da OECD há uma correlação postiva entre aumento do GDP_capita e o consumo do carvão por pessoa. E sim, este comportamento aparenta ser diferente entre membros e não membros da OECD\n",
    "\n",
    "#Obs: alguns textos científicos relacionam o uso excessivo de carvão minera, pela Noruega, para aquecer ambientes domésticos devido ao alto frio no inverno\n"
   ]
  }
 ],
 "metadata": {
  "kernelspec": {
   "display_name": "Python 3",
   "language": "python",
   "name": "python3"
  },
  "language_info": {
   "codemirror_mode": {
    "name": "ipython",
    "version": 3
   },
   "file_extension": ".py",
   "mimetype": "text/x-python",
   "name": "python",
   "nbconvert_exporter": "python",
   "pygments_lexer": "ipython3",
   "version": "3.7.1"
  }
 },
 "nbformat": 4,
 "nbformat_minor": 2
}
