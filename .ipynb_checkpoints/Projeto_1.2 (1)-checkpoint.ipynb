{
 "cells": [
  {
   "cell_type": "markdown",
   "metadata": {},
   "source": [
    "## Hipotése 1:\n",
    "\n",
    "# Será que existe o GDP per capita possui alguma proporcionalidade em relação ao consumo de carvão mineral (tones oil equivalent)\n",
    "\n",
    "#### .Comparar países da OECD com países que não são da OECD"
   ]
  },
  {
   "cell_type": "markdown",
   "metadata": {},
   "source": [
    "# Importando as bibliotecas utilizadas"
   ]
  },
  {
   "cell_type": "code",
   "execution_count": 39,
   "metadata": {},
   "outputs": [],
   "source": [
    "%matplotlib inline\n",
    "import pandas as pd\n",
    "import numpy as np\n",
    "import matplotlib.pyplot as plt"
   ]
  },
  {
   "cell_type": "markdown",
   "metadata": {},
   "source": [
    "# Lendo as planilhas utilizadas"
   ]
  },
  {
   "cell_type": "code",
   "execution_count": 40,
   "metadata": {},
   "outputs": [
    {
     "data": {
      "text/html": [
       "<div>\n",
       "<style scoped>\n",
       "    .dataframe tbody tr th:only-of-type {\n",
       "        vertical-align: middle;\n",
       "    }\n",
       "\n",
       "    .dataframe tbody tr th {\n",
       "        vertical-align: top;\n",
       "    }\n",
       "\n",
       "    .dataframe thead th {\n",
       "        text-align: right;\n",
       "    }\n",
       "</style>\n",
       "<table border=\"1\" class=\"dataframe\">\n",
       "  <thead>\n",
       "    <tr style=\"text-align: right;\">\n",
       "      <th></th>\n",
       "      <th>country</th>\n",
       "      <th>1801</th>\n",
       "      <th>1802</th>\n",
       "      <th>1803</th>\n",
       "      <th>1804</th>\n",
       "      <th>1805</th>\n",
       "      <th>1806</th>\n",
       "      <th>1807</th>\n",
       "      <th>1808</th>\n",
       "      <th>1809</th>\n",
       "      <th>...</th>\n",
       "      <th>2010</th>\n",
       "      <th>2011</th>\n",
       "      <th>2012</th>\n",
       "      <th>2013</th>\n",
       "      <th>2014</th>\n",
       "      <th>2015</th>\n",
       "      <th>2016</th>\n",
       "      <th>2017</th>\n",
       "      <th>2018</th>\n",
       "      <th>2019</th>\n",
       "    </tr>\n",
       "  </thead>\n",
       "  <tbody>\n",
       "    <tr>\n",
       "      <th>0</th>\n",
       "      <td>Afghanistan</td>\n",
       "      <td>NaN</td>\n",
       "      <td>NaN</td>\n",
       "      <td>NaN</td>\n",
       "      <td>NaN</td>\n",
       "      <td>NaN</td>\n",
       "      <td>NaN</td>\n",
       "      <td>NaN</td>\n",
       "      <td>NaN</td>\n",
       "      <td>NaN</td>\n",
       "      <td>...</td>\n",
       "      <td>5.170</td>\n",
       "      <td>3.850</td>\n",
       "      <td>11.20</td>\n",
       "      <td>1.13</td>\n",
       "      <td>0.837</td>\n",
       "      <td>2.11</td>\n",
       "      <td>2.68</td>\n",
       "      <td>2.760</td>\n",
       "      <td>3.02</td>\n",
       "      <td>3.38</td>\n",
       "    </tr>\n",
       "    <tr>\n",
       "      <th>1</th>\n",
       "      <td>Albania</td>\n",
       "      <td>0.10400</td>\n",
       "      <td>0.10400</td>\n",
       "      <td>0.10400</td>\n",
       "      <td>0.10400</td>\n",
       "      <td>0.10400</td>\n",
       "      <td>0.10400</td>\n",
       "      <td>0.10400</td>\n",
       "      <td>0.10400</td>\n",
       "      <td>0.10400</td>\n",
       "      <td>...</td>\n",
       "      <td>2.980</td>\n",
       "      <td>2.490</td>\n",
       "      <td>2.28</td>\n",
       "      <td>1.72</td>\n",
       "      <td>2.610</td>\n",
       "      <td>3.82</td>\n",
       "      <td>4.72</td>\n",
       "      <td>5.030</td>\n",
       "      <td>5.03</td>\n",
       "      <td>5.23</td>\n",
       "    </tr>\n",
       "    <tr>\n",
       "      <th>2</th>\n",
       "      <td>Algeria</td>\n",
       "      <td>-0.00247</td>\n",
       "      <td>-0.00247</td>\n",
       "      <td>-0.00247</td>\n",
       "      <td>-0.00247</td>\n",
       "      <td>-0.00247</td>\n",
       "      <td>-0.00247</td>\n",
       "      <td>-0.00247</td>\n",
       "      <td>-0.00247</td>\n",
       "      <td>-0.00247</td>\n",
       "      <td>...</td>\n",
       "      <td>2.060</td>\n",
       "      <td>0.857</td>\n",
       "      <td>1.16</td>\n",
       "      <td>1.61</td>\n",
       "      <td>2.180</td>\n",
       "      <td>2.10</td>\n",
       "      <td>2.36</td>\n",
       "      <td>2.500</td>\n",
       "      <td>2.63</td>\n",
       "      <td>2.68</td>\n",
       "    </tr>\n",
       "    <tr>\n",
       "      <th>3</th>\n",
       "      <td>Andorra</td>\n",
       "      <td>0.16600</td>\n",
       "      <td>0.16600</td>\n",
       "      <td>0.16600</td>\n",
       "      <td>0.16600</td>\n",
       "      <td>0.16600</td>\n",
       "      <td>0.16600</td>\n",
       "      <td>0.16600</td>\n",
       "      <td>0.16600</td>\n",
       "      <td>0.16600</td>\n",
       "      <td>...</td>\n",
       "      <td>-4.780</td>\n",
       "      <td>-4.300</td>\n",
       "      <td>NaN</td>\n",
       "      <td>NaN</td>\n",
       "      <td>NaN</td>\n",
       "      <td>NaN</td>\n",
       "      <td>NaN</td>\n",
       "      <td>NaN</td>\n",
       "      <td>NaN</td>\n",
       "      <td>NaN</td>\n",
       "    </tr>\n",
       "    <tr>\n",
       "      <th>4</th>\n",
       "      <td>Angola</td>\n",
       "      <td>0.42500</td>\n",
       "      <td>0.42500</td>\n",
       "      <td>0.42500</td>\n",
       "      <td>0.42500</td>\n",
       "      <td>0.42500</td>\n",
       "      <td>0.42500</td>\n",
       "      <td>0.42500</td>\n",
       "      <td>0.42500</td>\n",
       "      <td>0.42500</td>\n",
       "      <td>...</td>\n",
       "      <td>0.594</td>\n",
       "      <td>1.030</td>\n",
       "      <td>2.13</td>\n",
       "      <td>1.03</td>\n",
       "      <td>2.240</td>\n",
       "      <td>2.46</td>\n",
       "      <td>2.77</td>\n",
       "      <td>0.262</td>\n",
       "      <td>3.46</td>\n",
       "      <td>3.55</td>\n",
       "    </tr>\n",
       "  </tbody>\n",
       "</table>\n",
       "<p>5 rows × 220 columns</p>\n",
       "</div>"
      ],
      "text/plain": [
       "       country     1801     1802     1803     1804     1805     1806     1807  \\\n",
       "0  Afghanistan      NaN      NaN      NaN      NaN      NaN      NaN      NaN   \n",
       "1      Albania  0.10400  0.10400  0.10400  0.10400  0.10400  0.10400  0.10400   \n",
       "2      Algeria -0.00247 -0.00247 -0.00247 -0.00247 -0.00247 -0.00247 -0.00247   \n",
       "3      Andorra  0.16600  0.16600  0.16600  0.16600  0.16600  0.16600  0.16600   \n",
       "4       Angola  0.42500  0.42500  0.42500  0.42500  0.42500  0.42500  0.42500   \n",
       "\n",
       "      1808     1809  ...    2010   2011   2012  2013   2014  2015  2016  \\\n",
       "0      NaN      NaN  ...   5.170  3.850  11.20  1.13  0.837  2.11  2.68   \n",
       "1  0.10400  0.10400  ...   2.980  2.490   2.28  1.72  2.610  3.82  4.72   \n",
       "2 -0.00247 -0.00247  ...   2.060  0.857   1.16  1.61  2.180  2.10  2.36   \n",
       "3  0.16600  0.16600  ...  -4.780 -4.300    NaN   NaN    NaN   NaN   NaN   \n",
       "4  0.42500  0.42500  ...   0.594  1.030   2.13  1.03  2.240  2.46  2.77   \n",
       "\n",
       "    2017  2018  2019  \n",
       "0  2.760  3.02  3.38  \n",
       "1  5.030  5.03  5.23  \n",
       "2  2.500  2.63  2.68  \n",
       "3    NaN   NaN   NaN  \n",
       "4  0.262  3.46  3.55  \n",
       "\n",
       "[5 rows x 220 columns]"
      ]
     },
     "execution_count": 40,
     "metadata": {},
     "output_type": "execute_result"
    }
   ],
   "source": [
    "GDP_capita_growth = pd.read_excel(\"gdp_per_capita_yearly_growth.xlsx\")\n",
    "Consumo_carvão = pd.read_excel(\"coal_consumption_per_cap.xlsx\")\n",
    "GDP_capita_growth.head() #visualiAR\n",
    "#Consumo_carvão.head()"
   ]
  },
  {
   "cell_type": "markdown",
   "metadata": {},
   "source": [
    "# Setando index"
   ]
  },
  {
   "cell_type": "code",
   "execution_count": 41,
   "metadata": {},
   "outputs": [
    {
     "data": {
      "text/html": [
       "<div>\n",
       "<style scoped>\n",
       "    .dataframe tbody tr th:only-of-type {\n",
       "        vertical-align: middle;\n",
       "    }\n",
       "\n",
       "    .dataframe tbody tr th {\n",
       "        vertical-align: top;\n",
       "    }\n",
       "\n",
       "    .dataframe thead th {\n",
       "        text-align: right;\n",
       "    }\n",
       "</style>\n",
       "<table border=\"1\" class=\"dataframe\">\n",
       "  <thead>\n",
       "    <tr style=\"text-align: right;\">\n",
       "      <th></th>\n",
       "      <th>1965</th>\n",
       "      <th>1966</th>\n",
       "      <th>1967</th>\n",
       "      <th>1968</th>\n",
       "      <th>1969</th>\n",
       "      <th>1970</th>\n",
       "      <th>1971</th>\n",
       "      <th>1972</th>\n",
       "      <th>1973</th>\n",
       "      <th>1974</th>\n",
       "      <th>...</th>\n",
       "      <th>2007</th>\n",
       "      <th>2008</th>\n",
       "      <th>2009</th>\n",
       "      <th>2010</th>\n",
       "      <th>2011</th>\n",
       "      <th>2012</th>\n",
       "      <th>2013</th>\n",
       "      <th>2014</th>\n",
       "      <th>2015</th>\n",
       "      <th>2016</th>\n",
       "    </tr>\n",
       "    <tr>\n",
       "      <th>country</th>\n",
       "      <th></th>\n",
       "      <th></th>\n",
       "      <th></th>\n",
       "      <th></th>\n",
       "      <th></th>\n",
       "      <th></th>\n",
       "      <th></th>\n",
       "      <th></th>\n",
       "      <th></th>\n",
       "      <th></th>\n",
       "      <th></th>\n",
       "      <th></th>\n",
       "      <th></th>\n",
       "      <th></th>\n",
       "      <th></th>\n",
       "      <th></th>\n",
       "      <th></th>\n",
       "      <th></th>\n",
       "      <th></th>\n",
       "      <th></th>\n",
       "      <th></th>\n",
       "    </tr>\n",
       "  </thead>\n",
       "  <tbody>\n",
       "    <tr>\n",
       "      <th>Algeria</th>\n",
       "      <td>0.00554</td>\n",
       "      <td>0.00524</td>\n",
       "      <td>0.00389</td>\n",
       "      <td>0.0040</td>\n",
       "      <td>0.00495</td>\n",
       "      <td>0.0057</td>\n",
       "      <td>0.00154</td>\n",
       "      <td>0.0013</td>\n",
       "      <td>0.00146</td>\n",
       "      <td>0.00117</td>\n",
       "      <td>...</td>\n",
       "      <td>0.02210</td>\n",
       "      <td>0.02170</td>\n",
       "      <td>0.01370</td>\n",
       "      <td>0.00858</td>\n",
       "      <td>0.00747</td>\n",
       "      <td>0.00777</td>\n",
       "      <td>0.00412</td>\n",
       "      <td>0.00458</td>\n",
       "      <td>0.00361</td>\n",
       "      <td>0.00356</td>\n",
       "    </tr>\n",
       "    <tr>\n",
       "      <th>Argentina</th>\n",
       "      <td>0.03570</td>\n",
       "      <td>0.03690</td>\n",
       "      <td>0.03560</td>\n",
       "      <td>0.0282</td>\n",
       "      <td>0.03710</td>\n",
       "      <td>0.0409</td>\n",
       "      <td>0.03310</td>\n",
       "      <td>0.0291</td>\n",
       "      <td>0.03010</td>\n",
       "      <td>0.03800</td>\n",
       "      <td>...</td>\n",
       "      <td>0.03050</td>\n",
       "      <td>0.03450</td>\n",
       "      <td>0.02340</td>\n",
       "      <td>0.03080</td>\n",
       "      <td>0.03720</td>\n",
       "      <td>0.03110</td>\n",
       "      <td>0.02950</td>\n",
       "      <td>0.03460</td>\n",
       "      <td>0.03130</td>\n",
       "      <td>0.02410</td>\n",
       "    </tr>\n",
       "    <tr>\n",
       "      <th>Australia</th>\n",
       "      <td>1.53000</td>\n",
       "      <td>1.55000</td>\n",
       "      <td>1.55000</td>\n",
       "      <td>1.5500</td>\n",
       "      <td>1.57000</td>\n",
       "      <td>1.5500</td>\n",
       "      <td>1.53000</td>\n",
       "      <td>1.5700</td>\n",
       "      <td>1.61000</td>\n",
       "      <td>1.66000</td>\n",
       "      <td>...</td>\n",
       "      <td>2.51000</td>\n",
       "      <td>2.57000</td>\n",
       "      <td>2.44000</td>\n",
       "      <td>2.23000</td>\n",
       "      <td>2.14000</td>\n",
       "      <td>1.98000</td>\n",
       "      <td>1.86000</td>\n",
       "      <td>1.82000</td>\n",
       "      <td>1.85000</td>\n",
       "      <td>1.82000</td>\n",
       "    </tr>\n",
       "    <tr>\n",
       "      <th>Austria</th>\n",
       "      <td>0.69600</td>\n",
       "      <td>0.66000</td>\n",
       "      <td>0.62100</td>\n",
       "      <td>0.6100</td>\n",
       "      <td>0.59700</td>\n",
       "      <td>0.6390</td>\n",
       "      <td>0.58300</td>\n",
       "      <td>0.5270</td>\n",
       "      <td>0.52200</td>\n",
       "      <td>0.54900</td>\n",
       "      <td>...</td>\n",
       "      <td>0.47000</td>\n",
       "      <td>0.45000</td>\n",
       "      <td>0.34400</td>\n",
       "      <td>0.40200</td>\n",
       "      <td>0.41000</td>\n",
       "      <td>0.37900</td>\n",
       "      <td>0.38200</td>\n",
       "      <td>0.34700</td>\n",
       "      <td>0.37300</td>\n",
       "      <td>0.36400</td>\n",
       "    </tr>\n",
       "    <tr>\n",
       "      <th>Azerbaijan</th>\n",
       "      <td>NaN</td>\n",
       "      <td>NaN</td>\n",
       "      <td>NaN</td>\n",
       "      <td>NaN</td>\n",
       "      <td>NaN</td>\n",
       "      <td>NaN</td>\n",
       "      <td>NaN</td>\n",
       "      <td>NaN</td>\n",
       "      <td>NaN</td>\n",
       "      <td>NaN</td>\n",
       "      <td>...</td>\n",
       "      <td>0.00014</td>\n",
       "      <td>0.00079</td>\n",
       "      <td>0.00046</td>\n",
       "      <td>0.00006</td>\n",
       "      <td>0.00038</td>\n",
       "      <td>0.00006</td>\n",
       "      <td>0.00031</td>\n",
       "      <td>0.00017</td>\n",
       "      <td>0.00004</td>\n",
       "      <td>0.00004</td>\n",
       "    </tr>\n",
       "  </tbody>\n",
       "</table>\n",
       "<p>5 rows × 52 columns</p>\n",
       "</div>"
      ],
      "text/plain": [
       "               1965     1966     1967    1968     1969    1970     1971  \\\n",
       "country                                                                   \n",
       "Algeria     0.00554  0.00524  0.00389  0.0040  0.00495  0.0057  0.00154   \n",
       "Argentina   0.03570  0.03690  0.03560  0.0282  0.03710  0.0409  0.03310   \n",
       "Australia   1.53000  1.55000  1.55000  1.5500  1.57000  1.5500  1.53000   \n",
       "Austria     0.69600  0.66000  0.62100  0.6100  0.59700  0.6390  0.58300   \n",
       "Azerbaijan      NaN      NaN      NaN     NaN      NaN     NaN      NaN   \n",
       "\n",
       "              1972     1973     1974   ...        2007     2008     2009  \\\n",
       "country                                ...                                 \n",
       "Algeria     0.0013  0.00146  0.00117   ...     0.02210  0.02170  0.01370   \n",
       "Argentina   0.0291  0.03010  0.03800   ...     0.03050  0.03450  0.02340   \n",
       "Australia   1.5700  1.61000  1.66000   ...     2.51000  2.57000  2.44000   \n",
       "Austria     0.5270  0.52200  0.54900   ...     0.47000  0.45000  0.34400   \n",
       "Azerbaijan     NaN      NaN      NaN   ...     0.00014  0.00079  0.00046   \n",
       "\n",
       "               2010     2011     2012     2013     2014     2015     2016  \n",
       "country                                                                    \n",
       "Algeria     0.00858  0.00747  0.00777  0.00412  0.00458  0.00361  0.00356  \n",
       "Argentina   0.03080  0.03720  0.03110  0.02950  0.03460  0.03130  0.02410  \n",
       "Australia   2.23000  2.14000  1.98000  1.86000  1.82000  1.85000  1.82000  \n",
       "Austria     0.40200  0.41000  0.37900  0.38200  0.34700  0.37300  0.36400  \n",
       "Azerbaijan  0.00006  0.00038  0.00006  0.00031  0.00017  0.00004  0.00004  \n",
       "\n",
       "[5 rows x 52 columns]"
      ]
     },
     "execution_count": 41,
     "metadata": {},
     "output_type": "execute_result"
    }
   ],
   "source": [
    "GDP_capita_setado = GDP_capita_growth.set_index(\"country\")\n",
    "Consumo_carvão_setado = Consumo_carvão.set_index(\"country\")\n",
    "#GDP_capita_setado.head()\n",
    "#Consumo_carvão_setado.head()\n",
    "GDP_capita_setado_cru = GDP_capita_growth.set_index(\"country\")\n",
    "Consumo_carvão_setado_cru = Consumo_carvão.set_index(\"country\")\n",
    "Consumo_carvão_setado_cru.head(5)"
   ]
  },
  {
   "cell_type": "markdown",
   "metadata": {},
   "source": [
    "# Modificando com base na OECD"
   ]
  },
  {
   "cell_type": "code",
   "execution_count": 42,
   "metadata": {},
   "outputs": [],
   "source": [
    "países_OECD = [\"Australia\" , \"Austria\", \"Belgium\", \"Canada\", \"Chile\", \"Czech Republic\", \"Denmark\",\n",
    "                                    \"Finland\", \"France\", \"Germany\", \"Greece\", \"Hungary\", \"Ireland\", \"Israel\", \"Italy\",\n",
    "                                   \"Japan\", \"South Korea\", \"Lithuania\", \"Mexico\", \"New Zealand\",\n",
    "                                   \"Norway\", \"Poland\", \"Portugal\", \"Slovak Republic\", \"Spain\", \"Sweden\", \"Switzerland\",\n",
    "                                   \"Turkey\", \"United Kingdom\", \"United States\"]\n",
    "\n",
    "Consumo_carvão_setado.loc[: , \"OECD\"] = \"Não\"  \n",
    "Consumo_carvão_setado.loc[países_OECD, \"OECD\"] = \"Sim\"\n",
    "\n",
    "Consumo_carvão_setado.head(5)\n",
    "\n",
    "GDP_capita_setado.loc[: , \"OECD\"] = \"Não\"\n",
    "GDP_capita_setado.loc[países_OECD , \"OECD\"] = \"Sim\""
   ]
  },
  {
   "cell_type": "markdown",
   "metadata": {},
   "source": [
    "# Fazendo gráfico"
   ]
  },
  {
   "cell_type": "code",
   "execution_count": 43,
   "metadata": {},
   "outputs": [
    {
     "data": {
      "image/png": "[encoded data removed]",
      "text/plain": [
       "<Figure size 432x288 with 1 Axes>"
      ]
     },
     "metadata": {
      "needs_background": "light"
     },
     "output_type": "display_data"
    }
   ],
   "source": [
    "Boxplot = Consumo_carvão_setado.boxplot(column=1973, by=\"OECD\")"
   ]
  },
  {
   "cell_type": "code",
   "execution_count": 44,
   "metadata": {},
   "outputs": [],
   "source": [
    "#Escrever um texto que deixe claro o porque de eu fazer um boxplot"
   ]
  },
  {
   "cell_type": "code",
   "execution_count": 46,
   "metadata": {},
   "outputs": [
    {
     "data": {
      "image/png": "[encoded data removed]",
      "text/plain": [
       "<Figure size 432x288 with 2 Axes>"
      ]
     },
     "metadata": {
      "needs_background": "light"
     },
     "output_type": "display_data"
    }
   ],
   "source": [
    "Histograma = Consumo_carvão_setado.hist(column=2000, by=\"OECD\")"
   ]
  },
  {
   "cell_type": "code",
   "execution_count": 47,
   "metadata": {},
   "outputs": [
    {
     "data": {
      "text/plain": [
       "1965    0.158\n",
       "1966    0.165\n",
       "1967    0.143\n",
       "1968    0.138\n",
       "1969    0.162\n",
       "Name: China, dtype: float64"
      ]
     },
     "execution_count": 47,
     "metadata": {},
     "output_type": "execute_result"
    }
   ],
   "source": [
    "Consumo_carvão_setado_cru.loc[\"China\"].head()"
   ]
  },
  {
   "cell_type": "markdown",
   "metadata": {},
   "source": [
    "# Modificando as tabelas para dar Join"
   ]
  },
  {
   "cell_type": "markdown",
   "metadata": {},
   "source": [
    "### Igualando o número de colunas"
   ]
  },
  {
   "cell_type": "code",
   "execution_count": 48,
   "metadata": {},
   "outputs": [],
   "source": [
    "Index_total_GDP = []\n",
    "Index_total_carbono = []\n",
    "Index_total_Junção = []\n",
    "\n",
    "\n",
    "for i in GDP_capita_setado.index:\n",
    "    Index_total_GDP.append(i)\n",
    "    \n",
    "for a in Consumo_carvão_setado.index:\n",
    "    Index_total_carbono.append(a)\n",
    "\n",
    "for b in Index_total_carbono:\n",
    "    if b in Index_total_carbono:\n",
    "        Index_total_Junção.append(b)"
   ]
  },
  {
   "cell_type": "code",
   "execution_count": 51,
   "metadata": {},
   "outputs": [
    {
     "data": {
      "text/html": [
       "<div>\n",
       "<style scoped>\n",
       "    .dataframe tbody tr th:only-of-type {\n",
       "        vertical-align: middle;\n",
       "    }\n",
       "\n",
       "    .dataframe tbody tr th {\n",
       "        vertical-align: top;\n",
       "    }\n",
       "\n",
       "    .dataframe thead th {\n",
       "        text-align: right;\n",
       "    }\n",
       "</style>\n",
       "<table border=\"1\" class=\"dataframe\">\n",
       "  <thead>\n",
       "    <tr style=\"text-align: right;\">\n",
       "      <th></th>\n",
       "      <th>1973</th>\n",
       "      <th>1974</th>\n",
       "      <th>1975</th>\n",
       "      <th>1976</th>\n",
       "      <th>1977</th>\n",
       "      <th>1978</th>\n",
       "      <th>1979</th>\n",
       "      <th>1980</th>\n",
       "      <th>1981</th>\n",
       "      <th>1982</th>\n",
       "      <th>...</th>\n",
       "      <th>1991</th>\n",
       "      <th>1992</th>\n",
       "      <th>1993</th>\n",
       "      <th>1994</th>\n",
       "      <th>1995</th>\n",
       "      <th>1996</th>\n",
       "      <th>1997</th>\n",
       "      <th>1998</th>\n",
       "      <th>1999</th>\n",
       "      <th>2000</th>\n",
       "    </tr>\n",
       "    <tr>\n",
       "      <th>country</th>\n",
       "      <th></th>\n",
       "      <th></th>\n",
       "      <th></th>\n",
       "      <th></th>\n",
       "      <th></th>\n",
       "      <th></th>\n",
       "      <th></th>\n",
       "      <th></th>\n",
       "      <th></th>\n",
       "      <th></th>\n",
       "      <th></th>\n",
       "      <th></th>\n",
       "      <th></th>\n",
       "      <th></th>\n",
       "      <th></th>\n",
       "      <th></th>\n",
       "      <th></th>\n",
       "      <th></th>\n",
       "      <th></th>\n",
       "      <th></th>\n",
       "      <th></th>\n",
       "    </tr>\n",
       "  </thead>\n",
       "  <tbody>\n",
       "    <tr>\n",
       "      <th>Algeria</th>\n",
       "      <td>0.00146</td>\n",
       "      <td>0.00117</td>\n",
       "      <td>0.00144</td>\n",
       "      <td>0.00273</td>\n",
       "      <td>0.00345</td>\n",
       "      <td>0.0017</td>\n",
       "      <td>0.00384</td>\n",
       "      <td>0.00331</td>\n",
       "      <td>0.00226</td>\n",
       "      <td>0.0406</td>\n",
       "      <td>...</td>\n",
       "      <td>0.02560</td>\n",
       "      <td>0.02970</td>\n",
       "      <td>0.0237</td>\n",
       "      <td>0.02190</td>\n",
       "      <td>0.02150</td>\n",
       "      <td>0.00993</td>\n",
       "      <td>0.01710</td>\n",
       "      <td>0.0181</td>\n",
       "      <td>0.0191</td>\n",
       "      <td>0.0155</td>\n",
       "    </tr>\n",
       "    <tr>\n",
       "      <th>Argentina</th>\n",
       "      <td>0.03010</td>\n",
       "      <td>0.03800</td>\n",
       "      <td>0.04040</td>\n",
       "      <td>0.04060</td>\n",
       "      <td>0.03160</td>\n",
       "      <td>0.0445</td>\n",
       "      <td>0.03470</td>\n",
       "      <td>0.03320</td>\n",
       "      <td>0.02970</td>\n",
       "      <td>0.0291</td>\n",
       "      <td>...</td>\n",
       "      <td>0.02210</td>\n",
       "      <td>0.01930</td>\n",
       "      <td>0.0225</td>\n",
       "      <td>0.03140</td>\n",
       "      <td>0.02780</td>\n",
       "      <td>0.02580</td>\n",
       "      <td>0.02360</td>\n",
       "      <td>0.0202</td>\n",
       "      <td>0.0201</td>\n",
       "      <td>0.0166</td>\n",
       "    </tr>\n",
       "    <tr>\n",
       "      <th>Australia</th>\n",
       "      <td>1.61000</td>\n",
       "      <td>1.66000</td>\n",
       "      <td>1.69000</td>\n",
       "      <td>1.73000</td>\n",
       "      <td>1.79000</td>\n",
       "      <td>1.8100</td>\n",
       "      <td>1.87000</td>\n",
       "      <td>1.91000</td>\n",
       "      <td>1.93000</td>\n",
       "      <td>1.9200</td>\n",
       "      <td>...</td>\n",
       "      <td>2.26000</td>\n",
       "      <td>2.24000</td>\n",
       "      <td>2.2300</td>\n",
       "      <td>2.25000</td>\n",
       "      <td>2.30000</td>\n",
       "      <td>2.37000</td>\n",
       "      <td>2.47000</td>\n",
       "      <td>2.5500</td>\n",
       "      <td>2.5300</td>\n",
       "      <td>2.5200</td>\n",
       "    </tr>\n",
       "    <tr>\n",
       "      <th>Austria</th>\n",
       "      <td>0.52200</td>\n",
       "      <td>0.54900</td>\n",
       "      <td>0.47700</td>\n",
       "      <td>0.50700</td>\n",
       "      <td>0.42600</td>\n",
       "      <td>0.4330</td>\n",
       "      <td>0.47100</td>\n",
       "      <td>0.48400</td>\n",
       "      <td>0.49600</td>\n",
       "      <td>0.4720</td>\n",
       "      <td>...</td>\n",
       "      <td>0.55300</td>\n",
       "      <td>0.42700</td>\n",
       "      <td>0.3810</td>\n",
       "      <td>0.38400</td>\n",
       "      <td>0.43400</td>\n",
       "      <td>0.43400</td>\n",
       "      <td>0.46000</td>\n",
       "      <td>0.4050</td>\n",
       "      <td>0.4010</td>\n",
       "      <td>0.4530</td>\n",
       "    </tr>\n",
       "    <tr>\n",
       "      <th>Azerbaijan</th>\n",
       "      <td>NaN</td>\n",
       "      <td>NaN</td>\n",
       "      <td>NaN</td>\n",
       "      <td>NaN</td>\n",
       "      <td>NaN</td>\n",
       "      <td>NaN</td>\n",
       "      <td>NaN</td>\n",
       "      <td>NaN</td>\n",
       "      <td>NaN</td>\n",
       "      <td>NaN</td>\n",
       "      <td>...</td>\n",
       "      <td>0.00911</td>\n",
       "      <td>0.00161</td>\n",
       "      <td>0.0004</td>\n",
       "      <td>0.00052</td>\n",
       "      <td>0.00039</td>\n",
       "      <td>0.00038</td>\n",
       "      <td>0.00038</td>\n",
       "      <td>NaN</td>\n",
       "      <td>NaN</td>\n",
       "      <td>NaN</td>\n",
       "    </tr>\n",
       "  </tbody>\n",
       "</table>\n",
       "<p>5 rows × 28 columns</p>\n",
       "</div>"
      ],
      "text/plain": [
       "               1973     1974     1975     1976     1977    1978     1979  \\\n",
       "country                                                                    \n",
       "Algeria     0.00146  0.00117  0.00144  0.00273  0.00345  0.0017  0.00384   \n",
       "Argentina   0.03010  0.03800  0.04040  0.04060  0.03160  0.0445  0.03470   \n",
       "Australia   1.61000  1.66000  1.69000  1.73000  1.79000  1.8100  1.87000   \n",
       "Austria     0.52200  0.54900  0.47700  0.50700  0.42600  0.4330  0.47100   \n",
       "Azerbaijan      NaN      NaN      NaN      NaN      NaN     NaN      NaN   \n",
       "\n",
       "               1980     1981    1982   ...       1991     1992    1993  \\\n",
       "country                                ...                               \n",
       "Algeria     0.00331  0.00226  0.0406   ...    0.02560  0.02970  0.0237   \n",
       "Argentina   0.03320  0.02970  0.0291   ...    0.02210  0.01930  0.0225   \n",
       "Australia   1.91000  1.93000  1.9200   ...    2.26000  2.24000  2.2300   \n",
       "Austria     0.48400  0.49600  0.4720   ...    0.55300  0.42700  0.3810   \n",
       "Azerbaijan      NaN      NaN     NaN   ...    0.00911  0.00161  0.0004   \n",
       "\n",
       "               1994     1995     1996     1997    1998    1999    2000  \n",
       "country                                                                 \n",
       "Algeria     0.02190  0.02150  0.00993  0.01710  0.0181  0.0191  0.0155  \n",
       "Argentina   0.03140  0.02780  0.02580  0.02360  0.0202  0.0201  0.0166  \n",
       "Australia   2.25000  2.30000  2.37000  2.47000  2.5500  2.5300  2.5200  \n",
       "Austria     0.38400  0.43400  0.43400  0.46000  0.4050  0.4010  0.4530  \n",
       "Azerbaijan  0.00052  0.00039  0.00038  0.00038     NaN     NaN     NaN  \n",
       "\n",
       "[5 rows x 28 columns]"
      ]
     },
     "execution_count": 51,
     "metadata": {},
     "output_type": "execute_result"
    }
   ],
   "source": [
    "Transposed_GDP = GDP_capita_setado_cru.transpose()\n",
    "Fragmentado_GDP = Transposed_GDP.loc[(Transposed_GDP.index > 1972) & (Transposed_GDP.index < 2001), :]\n",
    "GDP_locado = Fragmentado_GDP.transpose()\n",
    "GDP_modificado = Fragmentado_GDP.transpose()\n",
    "Planilha_1 = GDP_modificado.loc[(Index_total_Junção) , : ]\n",
    "\n",
    "Transposed_carvão = Consumo_carvão_setado_cru.transpose()\n",
    "Fragmentado_carvão = Transposed_carvão.loc[(Transposed_carvão.index > 1972) & (Transposed_carvão.index < 2001), : ]\n",
    "Carvão_locado = Fragmentado_carvão.transpose()\n",
    "Carvão_modificado = Fragmentado_carvão.transpose()\n",
    "Planilha_2  = Carvão_modificado.loc[(Index_total_Junção) , : ]\n",
    "\n",
    "Planilha_2.head(5)"
   ]
  },
  {
   "cell_type": "markdown",
   "metadata": {},
   "source": [
    "# Dando join na tabela"
   ]
  },
  {
   "cell_type": "code",
   "execution_count": 52,
   "metadata": {},
   "outputs": [
    {
     "name": "stdout",
     "output_type": "stream",
     "text": [
      "Esse gráfico demonstra os dados na Tabela_2, referente ao consumo de carvão por pessoa\n"
     ]
    },
    {
     "data": {
      "text/plain": [
       "(61, 56)"
      ]
     },
     "execution_count": 52,
     "metadata": {},
     "output_type": "execute_result"
    },
    {
     "data": {
      "image/png": "[encoded data removed]",
      "text/plain": [
       "<Figure size 2160x720 with 1 Axes>"
      ]
     },
     "metadata": {
      "needs_background": "light"
     },
     "output_type": "display_data"
    }
   ],
   "source": [
    "Planilhas_unificadas = Planilha_1.join(Planilha_2, how=\"inner\" ,lsuffix='_GDP', rsuffix='_Carbon')\n",
    "\n",
    "#Planilhas_unificadas.loc[: , [\"1965_GDP\",\"2001_Carbon\"]].head(4)\n",
    "\n",
    "plt.figure(figsize=(30,10))\n",
    "for pais in Planilha_2.columns:\n",
    "    plt.scatter(x=Planilha_2.index, y=Planilha_2[pais])\n",
    "\n",
    "print(\"Esse gráfico demonstra os dados na Tabela_2, referente ao consumo de carvão por pessoa\")\n",
    "Planilhas_unificadas.head(6)\n",
    "Planilhas_unificadas.shape"
   ]
  },
  {
   "cell_type": "code",
   "execution_count": 53,
   "metadata": {},
   "outputs": [],
   "source": [
    "OECD = Planilhas_unificadas.loc[(\"Australia\" , \"Austria\", \"Belgium\", \"Canada\", \"Chile\", \"Czech Republic\", \"Denmark\", \"Estonia\", \n",
    "                                    \"Finland\", \"France\", \"Germany\", \"Greece\", \"Hungary\", \"Iceland\", \"Ireland\", \"Israel\", \"Italy\",\n",
    "                                   \"Japan\", \"South Korea\", \"Latvia\", \"Lithuania\", \"Luxembourg\", \"Mexico\", \"Netherland\", \"New Zealand\",\n",
    "                                   \"Norway\", \"Poland\", \"Portugal\", \"Slovak Republic\", \"Slovenia\", \"Spain\", \"Sweden\", \"Switzerland\",\n",
    "                                   \"Turkey\", \"United Kingdom\", \"United States\") , :]\n",
    "\n",
    "\n",
    "Países_estudados_total = Planilhas_unificadas.loc[(\"Argentina\", \"Brazil\", \"Chile\", \"United States\", \"Israel\", \"Poland\"),  : ]\n",
    "\n",
    "Países_estudados_OECD = Países_estudados_total.loc[(\"United States\", \"Israel\", \"Poland\") , : ]\n",
    "\n",
    "Países_estudados_nOECD = Países_estudados_total.loc[(\"Argentina\", \"Brazil\"), : ]\n",
    "\n",
    "Países_estudados_total.transpose()\n",
    "\n",
    "United_States = Países_estudados_total.loc[(\"United States\"), : ]"
   ]
  },
  {
   "cell_type": "code",
   "execution_count": 54,
   "metadata": {},
   "outputs": [
    {
     "data": {
      "text/plain": [
       "country\n",
       "Algeria       Não\n",
       "Argentina     Não\n",
       "Australia     Sim\n",
       "Austria       Sim\n",
       "Azerbaijan    Não\n",
       "Name: OECD, dtype: object"
      ]
     },
     "execution_count": 54,
     "metadata": {},
     "output_type": "execute_result"
    }
   ],
   "source": [
    "Consumo_carvão_setado[\"OECD\"].head(5)"
   ]
  },
  {
   "cell_type": "code",
   "execution_count": 55,
   "metadata": {},
   "outputs": [
    {
     "data": {
      "text/plain": [
       "Index([  1965,   1966,   1967,   1968,   1969,   1970,   1971,   1972,   1973,\n",
       "         1974,   1975,   1976,   1977,   1978,   1979,   1980,   1981,   1982,\n",
       "         1983,   1984,   1985,   1986,   1987,   1988,   1989,   1990,   1991,\n",
       "         1992,   1993,   1994,   1995,   1996,   1997,   1998,   1999,   2000,\n",
       "         2001,   2002,   2003,   2004,   2005,   2006,   2007,   2008,   2009,\n",
       "         2010,   2011,   2012,   2013,   2014,   2015,   2016, 'OECD'],\n",
       "      dtype='object')"
      ]
     },
     "execution_count": 55,
     "metadata": {},
     "output_type": "execute_result"
    }
   ],
   "source": [
    "Consumo_carvão_setado.columns"
   ]
  },
  {
   "cell_type": "markdown",
   "metadata": {},
   "source": [
    "# Scaterplot"
   ]
  },
  {
   "cell_type": "code",
   "execution_count": 57,
   "metadata": {},
   "outputs": [
    {
     "data": {
      "text/plain": [
       "<matplotlib.collections.PathCollection at 0x2854c0cf940>"
      ]
     },
     "execution_count": 57,
     "metadata": {},
     "output_type": "execute_result"
    },
    {
     "data": {
      "image/png": "[encoded data removed]",
      "text/plain": [
       "<Figure size 432x288 with 1 Axes>"
      ]
     },
     "metadata": {
      "needs_background": "light"
     },
     "output_type": "display_data"
    }
   ],
   "source": [
    "Planilha_1.loc[: , \"OECD\"] = \"Não\"\n",
    "Planilha_1.loc[países_OECD , \"OECD\"] = \"Sim\"\n",
    "\n",
    "Planilha_2.loc[: , \"OECD\"] = \"Não\"\n",
    "Planilha_2.loc[países_OECD, \"OECD\"] = \"Sim\"\n",
    "\n",
    "plt.scatter(Planilha_1.loc[Planilha_1.OECD==\"Sim\",1973], Planilha_2.loc[Planilha_2.OECD==\"Sim\", 1973], color=\"r\")\n",
    "plt.scatter(Planilha_1.loc[Planilha_1.OECD==\"Não\",1973], Planilha_2.loc[Planilha_2.OECD==\"Não\", 1973], color=\"b\")\n"
   ]
  },
  {
   "cell_type": "markdown",
   "metadata": {},
   "source": [
    "## Ajuste de Retas"
   ]
  },
  {
   "cell_type": "code",
   "execution_count": 58,
   "metadata": {},
   "outputs": [],
   "source": [
    "def reta(dados_x, dados_y, c):    \n",
    "    a = dados_y.cov(dados_x) / dados_x.var()\n",
    "    b = dados_y.mean() - a*dados_x.mean()\n",
    "\n",
    "    print('Ajuste linear entre X3 e X4:')\n",
    "    print('Coeficiente linear:', b)\n",
    "    print('Coeficiente angular:', a)\n",
    "    plt.scatter(dados_x, dados_y, c=c, alpha=0.8)\n",
    "    plt.title('x versus y')\n",
    "    plt.xlabel('eixo x')\n",
    "    plt.ylabel('eixo y')\n",
    "\n",
    "    plt.plot((dados_x.min(), dados_x.max()), (a*dados_x.min()+b, a*dados_x.max()+b), color=c)\n",
    "\n",
    "    plt.tight_layout()\n"
   ]
  },
  {
   "cell_type": "markdown",
   "metadata": {},
   "source": [
    "# Dispersão mais *ajuste* de retas"
   ]
  },
  {
   "cell_type": "code",
   "execution_count": 68,
   "metadata": {},
   "outputs": [
    {
     "name": "stdout",
     "output_type": "stream",
     "text": [
      "Ajuste linear entre X3 e X4:\n",
      "Coeficiente linear: 0.8554094364907311\n",
      "Coeficiente angular: -0.013498561494049889\n",
      "Ajuste linear entre X3 e X4:\n",
      "Coeficiente linear: 0.17936631073509865\n",
      "Coeficiente angular: -0.0033564192941144175\n"
     ]
    },
    {
     "data": {
      "text/plain": [
       "Text(0.5, 20.80000000000001, 'GDP_capita')"
      ]
     },
     "execution_count": 68,
     "metadata": {},
     "output_type": "execute_result"
    },
    {
     "data": {
      "image/png": "[encoded data removed]",
      "text/plain": [
       "<Figure size 432x288 with 1 Axes>"
      ]
     },
     "metadata": {
      "needs_background": "light"
     },
     "output_type": "display_data"
    }
   ],
   "source": [
    "plt.scatter(Planilha_1.loc[Planilha_1.OECD==\"Sim\",1973], Planilha_2.loc[Planilha_2.OECD==\"Sim\", 1973], color=\"r\")\n",
    "reta(Planilha_1.loc[Planilha_1.OECD==\"Sim\",1973], Planilha_2.loc[Planilha_2.OECD==\"Sim\", 1973], \"r\")\n",
    "plt.scatter(Planilha_2.loc[Planilha_2.OECD==\"Não\",1973], Planilha_2.loc[Planilha_2.OECD==\"Não\", 1973], color=\"g\")\n",
    "reta(Planilha_1.loc[Planilha_1.OECD==\"Não\",1973], Planilha_2.loc[Planilha_2.OECD==\"Não\", 1973], \"g\")\n",
    "plt.title(\"Consumo_carbono x GDP_capita\")\n",
    "plt.ylabel(\"Consumo_carbono\")\n",
    "plt.xlabel(\"GDP_capita\")"
   ]
  },
  {
   "cell_type": "markdown",
   "metadata": {},
   "source": [
    "Ao analisar o coeficente de correlação da reta Vermelha, pode-se perceber que há uma correlação negativa entre "
   ]
  }
 ],
 "metadata": {
  "kernelspec": {
   "display_name": "Python 3",
   "language": "python",
   "name": "python3"
  },
  "language_info": {
   "codemirror_mode": {
    "name": "ipython",
    "version": 3
   },
   "file_extension": ".py",
   "mimetype": "text/x-python",
   "name": "python",
   "nbconvert_exporter": "python",
   "pygments_lexer": "ipython3",
   "version": "3.7.1"
  }
 },
 "nbformat": 4,
 "nbformat_minor": 2
}
